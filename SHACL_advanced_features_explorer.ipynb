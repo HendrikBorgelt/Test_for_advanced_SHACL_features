{
 "cells": [
  {
   "cell_type": "markdown",
   "metadata": {},
   "source": [
    "# SHACL Advanced features and constraints explorer\n",
    "\n",
    "This notebook is a tool to explore the SHACL advanced features and constraints. It is based on the [SHACL Playground](https://shacl.org/playground/) and the [SHACL documentation](https://www.w3.org/TR/shacl/).\n",
    "\n",
    "For pyshacl, see the [pyshacl documentation](https://pyshacl.readthedocs.io/en/latest/) and the [pyshacl AF issue](https://github.com/RDFLib/pySHACL/issues/189)."
   ]
  },
  {
   "cell_type": "code",
   "execution_count": 14,
   "metadata": {},
   "outputs": [],
   "source": [
    "import rdflib\n",
    "\n",
    "import matplotlib\n",
    "import matplotlib.pyplot as plt\n",
    "\n",
    "from pyshacl import Validator\n",
    "from rdflib import Graph\n",
    "# inline matplotlib plotting in jupyter notebook\n",
    "\n",
    "%matplotlib inline"
   ]
  },
  {
   "cell_type": "markdown",
   "metadata": {},
   "source": [
    "## SHACL Advanced Features (AF) with pyshacl"
   ]
  },
  {
   "cell_type": "code",
   "execution_count": null,
   "metadata": {},
   "outputs": [],
   "source": [
    "\n",
    "\n",
    "g = Graph()\n",
    "\n",
    "smts = \"\"\"\n",
    "@prefix rdfs: <http://www.w3.org/2000/01/rdf-schema#> .\n",
    "@prefix C: <http://example.org/> .\n",
    "@prefix ex: <http://example.org/> .\n",
    "\n",
    "C:A rdfs:subClassOf C:B . \n",
    "ex:something a C:A .\n",
    "\"\"\"\n",
    "\n",
    "g.parse(data=smts)\n",
    "v = Validator(g,\n",
    "      inference='rdfs',\n",
    "      advanced=True)\n",
    "\n",
    "v.run()\n",
    "print(v.target_graph.serialize(format='ttl'))"
   ]
  },
  {
   "cell_type": "code",
   "execution_count": null,
   "metadata": {},
   "outputs": [],
   "source": [
    "# target graph method\n",
    "\n",
    "v = Validator(g, shacl_graph=myshapes, options={\"advanced\": True, \"inference\": \"rdfs\"})\n",
    "conforms, report_graph, report_text = v.run()\n",
    "expanded_graph = v.target_graph #<-- This gets the expanded data graph"
   ]
  },
  {
   "cell_type": "code",
   "execution_count": null,
   "metadata": {},
   "outputs": [],
   "source": [
    "# inplace modifier\n",
    "\n",
    "\n",
    "v = Validator(g, shacl_graph=myshapes, options={\"advanced\": True, \"inplace\": True, \"inference\": \"rdfs\"})\n",
    "conforms, report_graph, report_text = v.run()\n",
    "g #<-- g is expanded inplace"
   ]
  },
  {
   "cell_type": "code",
   "execution_count": null,
   "metadata": {},
   "outputs": [],
   "source": [
    "g = rdflib.Graph()\n",
    "\n",
    "test_ontology_filename = \"shacl_sparql_test_data.ttl\"\n",
    "\n",
    "# g.parse(\".\\\\Ontology_tests\\\\data_for_query3.ttl\", format=\"turtle\")\n",
    "g.parse(test_ontology_filename, format=\"turtle\")\n",
    "\n",
    "# with open(\".\\\\Ontology_tests\\\\knownQuery8.ttl\", \"r\") as file:\n",
    "#     known_query1 = file.read()\n",
    "\n",
    "g"
   ]
  },
  {
   "cell_type": "code",
   "execution_count": 8,
   "metadata": {},
   "outputs": [],
   "source": [
    "knows_query = \"\"\"\n",
    "PREFIX cml: <http://www.xml-cml.org/schema/cml2/core#>\n",
    "PREFIX ro: <http://www.example.org/reaction-ontology#>\n",
    "\n",
    "INSERT {?experimentReaction a ?idealReaction}\n",
    "WHERE {\n",
    "  # Idealized Reaction\n",
    "  ?idealReaction a ro:Reaction ;\n",
    "                 ro:type \"idealized\" .\n",
    "\n",
    "  {\n",
    "    SELECT  ?idealReaction  (GROUP_CONCAT(DISTINCT ?idealReactantStructure ; separator=\",\") AS ?idealReactantsList) \n",
    "                            (GROUP_CONCAT(DISTINCT ?idealProductStructure ; separator=\",\") AS ?idealProductsList)\n",
    "    WHERE {\n",
    "      ?idealReaction ro:hasReactant ?idealReactant .\n",
    "      ?idealReactant cml:chemicalStructure ?idealReactantStructure .\n",
    "      \n",
    "      ?idealReaction ro:hasProduct ?idealProduct .\n",
    "      ?idealProduct cml:chemicalStructure ?idealProductStructure .\n",
    "    }\n",
    "    GROUP BY ?idealReaction\n",
    "  }\n",
    "\n",
    "  # Experimental Reaction\n",
    "  ?experimentReaction a ro:Reaction ;\n",
    "                      ro:type \"experimental\" .\n",
    "\n",
    "  {\n",
    "    SELECT ?experimentReaction (GROUP_CONCAT(DISTINCT ?experimentReactantStructure ; separator=\",\") AS ?experimentReactantsList) (GROUP_CONCAT(DISTINCT ?experimentProductStructure ; separator=\",\") AS ?experimentProductsList)\n",
    "    WHERE {\n",
    "      ?experimentReaction ro:hasReactant ?experimentReactant .\n",
    "      ?experimentReactant cml:chemicalStructure ?experimentReactantStructure .\n",
    "      \n",
    "      ?experimentReaction ro:hasProduct ?experimentProduct .\n",
    "      ?experimentProduct cml:chemicalStructure ?experimentProductStructure .\n",
    "    }\n",
    "    GROUP BY ?experimentReaction\n",
    "  }\n",
    "\n",
    "  # Compare the product lists exactly\n",
    "  FILTER (STR(?idealProductsList) = STR(?experimentProductsList))\n",
    "  \n",
    "  # Ensure all ideal reactants are in the experimental reactants list\n",
    "  FILTER NOT EXISTS {\n",
    "    # Iterate over each ideal reactant\n",
    "    ?idealReaction ro:hasReactant ?idealReactant .\n",
    "    ?idealReactant cml:chemicalStructure ?idealReactantStructure .\n",
    "    \n",
    "    # Check if this ideal reactant is missing in the experimental reaction's reactants\n",
    "    FILTER NOT EXISTS {\n",
    "      ?experimentReaction ro:hasReactant ?experimentReactant .\n",
    "      ?experimentReactant cml:chemicalStructure ?idealReactantStructure .\n",
    "    }\n",
    "  }\n",
    "}\n",
    "\"\"\""
   ]
  },
  {
   "cell_type": "code",
   "execution_count": 9,
   "metadata": {},
   "outputs": [],
   "source": [
    "qres = g.update(knows_query)\n",
    "# for row in qres:\n",
    "#     print(f\"{row}\")\n",
    "\n"
   ]
  },
  {
   "cell_type": "code",
   "execution_count": null,
   "metadata": {},
   "outputs": [],
   "source": [
    "graph_ttl = g.serialize(format='turtle')\n",
    "\n",
    "print(graph_ttl)"
   ]
  },
  {
   "cell_type": "code",
   "execution_count": null,
   "metadata": {},
   "outputs": [],
   "source": [
    "# saving results to file\n",
    "result_output_filename = 'generated_outputs/result_1.ttl'\n",
    "g.serialize(destination=result_output_filename, format='turtle')"
   ]
  },
  {
   "cell_type": "code",
   "execution_count": null,
   "metadata": {},
   "outputs": [],
   "source": [
    "# open SHACL shape file\n",
    "\n",
    "shacl_shape_filename = \"shacl_sparql_test_shape.ttl\"\n",
    "\n",
    "with open(shacl_shape_filename, \"r\") as file:\n",
    "    known_query1 = file.read()\n",
    "\n",
    "\n",
    "qres = g.query(known_query1)\n",
    "\n",
    "for row1 in qres:\n",
    "    print(f\"Experimental Reaction: {row1.experimentalReaction}, Ideal Reaction: {row1.idealReaction}\")\n"
   ]
  },
  {
   "cell_type": "code",
   "execution_count": null,
   "metadata": {},
   "outputs": [],
   "source": []
  }
 ],
 "metadata": {
  "kernelspec": {
   "display_name": "linkml",
   "language": "python",
   "name": "python3"
  },
  "language_info": {
   "codemirror_mode": {
    "name": "ipython",
    "version": 3
   },
   "file_extension": ".py",
   "mimetype": "text/x-python",
   "name": "python",
   "nbconvert_exporter": "python",
   "pygments_lexer": "ipython3",
   "version": "3.10.12"
  }
 },
 "nbformat": 4,
 "nbformat_minor": 2
}
