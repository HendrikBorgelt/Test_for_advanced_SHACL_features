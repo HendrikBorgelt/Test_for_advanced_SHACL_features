{
 "cells": [
  {
   "cell_type": "markdown",
   "metadata": {},
   "source": [
    "# SHACL tutorial\n",
    "\n",
    "This tutorial is based on the youtube webinar of Holger Knublauch  [SHACL Tutorial](https://www.youtube.com/watch?v=ccs-KhnWR1U)\n",
    "    \n",
    "For SKOS, see also\n",
    " [SKOS Tutorial](https://www.youtube.com/watch?v=3Q4v6vzj3Qk) by [DataFlair](https://www.youtube.com/channel/UCs6nmQZQ6pO1qG0e2fV6G7g).\n",
    "\n",
    "and\n",
    " [SKOS Primer](https://www.w3.org/TR/skos-primer/) and the [SKOS Reference](https://www.w3.org/TR/skos-reference/)."
   ]
  },
  {
   "cell_type": "code",
   "execution_count": 2,
   "metadata": {},
   "outputs": [],
   "source": [
    "import rdflib\n",
    "\n",
    "import matplotlib\n",
    "import matplotlib.pyplot as plt\n",
    "\n",
    "from pyshacl import Validator\n",
    "from rdflib import Graph\n",
    "# inline matplotlib plotting in jupyter notebook\n",
    "\n",
    "%matplotlib inline"
   ]
  },
  {
   "cell_type": "code",
   "execution_count": 27,
   "metadata": {},
   "outputs": [],
   "source": [
    "# create a simple SKOS RDF graph (turtle format)\n",
    "\n",
    "simple_skos_ttl_graph = \"\"\"\n",
    "@prefix rdf: <http://www.w3.org/1999/02/22-rdf-syntax-ns#> .\n",
    "@prefix rdfs: <http://www.w3.org/2000/01/rdf-schema#> .\n",
    "@prefix xsd: <http://www.w3.org/2001/XMLSchema#> .\n",
    "@prefix owl: <http://www.w3.org/2002/07/owl#> .\n",
    "@prefix sh: <http://www.w3.org/ns/shacl#> .\n",
    "@prefix skos: <http://www.w3.org/2004/02/skos/core#> .\n",
    "@prefix ex: <http://example.org/> .\n",
    "@prefix shdemo: <http://w3id.org/oso/shacl-skos-demo-ontology/> .\n",
    "\n",
    "<http://w3id.org/oso/shacl-skos-demo-ontology> rdf:type owl:Ontology .\n",
    "\n",
    "shdemo:City\n",
    "    a owl:Class ;\n",
    "    a sh:NodeShape ;\n",
    "    rdfs:label \"City\"@en ;\n",
    "    rdfs:subClassOf skos:Concept;\n",
    "    sh:property shdemo:City-Population;\n",
    "    .\n",
    "# property shapes for City\n",
    "shdemo:City-Population\n",
    "    a sh:PropertyShape ;\n",
    "    sh:path shdemo:population ;\n",
    "    sh:datatype xsd:integer ;\n",
    "    sh:minCount 1 ;\n",
    "    sh:maxCount 1 ;\n",
    "    sh:name \"population\"@en ;\n",
    "    .\n",
    "\n",
    "shdemo:Country\n",
    "    a owl:Class ;\n",
    "    a sh:NodeShape ;\n",
    "    rdfs:label \"Country\"@en ;\n",
    "    rdfs:subClassOf skos:Concept;\n",
    "    sh:property shdemo:Country-Population;\n",
    "    .\n",
    "\n",
    "# property shapes for Country\n",
    "shdemo:Country-isoCode\n",
    "    a sh:PropertyShape ;\n",
    "    sh:path shdemo:isoCode ;\n",
    "    sh:datatype xsd:string ;\n",
    "    sh:minCount 1 ;\n",
    "    sh:maxCount 1 ;\n",
    "    sh:name \"ISO Code\"@en ;\n",
    "   \n",
    "    .    \n",
    "\n",
    "\"\"\"\n"
   ]
  },
  {
   "cell_type": "code",
   "execution_count": 28,
   "metadata": {},
   "outputs": [
    {
     "data": {
      "text/plain": [
       "<Graph identifier=N2811bce500da4e99b66633aded1fd0c9 (<class 'rdflib.graph.Graph'>)>"
      ]
     },
     "execution_count": 28,
     "metadata": {},
     "output_type": "execute_result"
    }
   ],
   "source": [
    "g = rdflib.Graph()\n",
    "g.parse(data=simple_skos_ttl_graph, format=\"turtle\")\n",
    "\n"
   ]
  },
  {
   "cell_type": "code",
   "execution_count": null,
   "metadata": {},
   "outputs": [],
   "source": []
  }
 ],
 "metadata": {
  "kernelspec": {
   "display_name": "linkml",
   "language": "python",
   "name": "python3"
  },
  "language_info": {
   "codemirror_mode": {
    "name": "ipython",
    "version": 3
   },
   "file_extension": ".py",
   "mimetype": "text/x-python",
   "name": "python",
   "nbconvert_exporter": "python",
   "pygments_lexer": "ipython3",
   "version": "3.10.12"
  }
 },
 "nbformat": 4,
 "nbformat_minor": 2
}
