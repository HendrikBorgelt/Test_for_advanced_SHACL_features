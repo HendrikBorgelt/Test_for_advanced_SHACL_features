{
 "cells": [
  {
   "cell_type": "markdown",
   "metadata": {},
   "source": [
    "# SHACL tutorial\n",
    "\n",
    "This tutorial is based on the youtube webinar of Holger Knublauch  [SHACL Tutorial](https://www.youtube.com/watch?v=ccs-KhnWR1U)\n",
    "    \n",
    "For SKOS, see also\n",
    " [SKOS Tutorial](https://www.youtube.com/watch?v=3Q4v6vzj3Qk) by [DataFlair](https://www.youtube.com/channel/UCs6nmQZQ6pO1qG0e2fV6G7g).\n",
    "\n",
    "and\n",
    " [SKOS Primer](https://www.w3.org/TR/skos-primer/) and the [SKOS Reference](https://www.w3.org/TR/skos-reference/)."
   ]
  },
  {
   "cell_type": "code",
   "execution_count": 24,
   "metadata": {},
   "outputs": [],
   "source": [
    "import rdflib\n",
    "\n",
    "import matplotlib\n",
    "import matplotlib.pyplot as plt\n",
    "\n",
    "from pyshacl import Validator\n",
    "from rdflib import Graph\n",
    "# inline matplotlib plotting in jupyter notebook\n",
    "\n",
    "%matplotlib inline"
   ]
  },
  {
   "cell_type": "code",
   "execution_count": 25,
   "metadata": {},
   "outputs": [],
   "source": [
    "# create a simple SKOS RDF graph (turtle format)\n",
    "\n",
    "simple_skos_ttl_graph = \"\"\"\n",
    "@prefix rdf: <http://www.w3.org/1999/02/22-rdf-syntax-ns#> .\n",
    "@prefix rdfs: <http://www.w3.org/2000/01/rdf-schema#> .\n",
    "@prefix xsd: <http://www.w3.org/2001/XMLSchema#> .\n",
    "@prefix owl: <http://www.w3.org/2002/07/owl#> .\n",
    "@prefix sh: <http://www.w3.org/ns/shacl#> .\n",
    "@prefix skos: <http://www.w3.org/2004/02/skos/core#> .\n",
    "@prefix ex: <http://example.org/> .\n",
    "@prefix shdemo: <http://w3id.org/oso/shacl-skos-demo-ontology/> .\n",
    "\n",
    "<http://w3id.org/oso/shacl-skos-demo-ontology> rdf:type owl:Ontology .\n",
    "\n",
    "\n",
    "# City --------------------------------------------------------------\n",
    "\n",
    "shdemo:City\n",
    "    a owl:Class ;\n",
    "    a sh:NodeShape ;\n",
    "    rdfs:label \"City\"@en ;\n",
    "    rdfs:subClassOf skos:Concept;\n",
    "    sh:property shdemo:City-Population;\n",
    "    .\n",
    "# property shapes for City\n",
    "shdemo:City-Population\n",
    "    a sh:PropertyShape ;\n",
    "    sh:path shdemo:population ;\n",
    "    sh:datatype xsd:integer ;\n",
    "    sh:minCount 1 ;\n",
    "    sh:name \"population\"@en ;\n",
    "    .\n",
    "\n",
    "    \n",
    "## Country --------------------------------------------------------------\n",
    "shdemo:Country\n",
    "    a owl:Class ;\n",
    "    a sh:NodeShape ;\n",
    "    rdfs:label \"Country\"@en ;\n",
    "    rdfs:subClassOf skos:Concept;\n",
    "    sh:property shdemo:Country-isoCode;\n",
    "    sh:property shdemo:Country-capital;\n",
    "    .\n",
    "\n",
    "# property shapes for Country\n",
    "# ISO Code\n",
    "shdemo:Country-isoCode\n",
    "    a sh:PropertyShape ;\n",
    "    sh:path shdemo:isoCode ;\n",
    "    sh:datatype xsd:string ;\n",
    "    sh:minLength 2 ;\n",
    "    sh:maxLength 2 ;\n",
    "    sh:regex \"[A-Z]{2}\" ;\n",
    "    sh:name \"ISO Code\"@en ;\n",
    "    .    \n",
    "\n",
    " # Capital\n",
    "shdemo:Country-capital\n",
    "    a sh:PropertyShape ;\n",
    "    sh:path shdemo:capital ;\n",
    "    sh:class shdemo:City ;\n",
    "    sh:datatype xsd:string ;\n",
    "    sh:maxCount 1 ;\n",
    "    sh:name \"Capital\"@en ;\n",
    "    .   \n",
    "# Capital of Country (inverse)\n",
    "\n",
    "shdemo:City-capitalOf\n",
    "    a sh:PropertyShape ;\n",
    "    sh:path shdemo:capital ;\n",
    "    sh:inversePath shdemo:Country-capital ;\n",
    "    sh:name \"capitalOf\"@en ;\n",
    "    .\n",
    "\n",
    "\"\"\"\n"
   ]
  },
  {
   "cell_type": "code",
   "execution_count": 26,
   "metadata": {},
   "outputs": [
    {
     "data": {
      "text/plain": [
       "<Graph identifier=N4182f95c86db42c9896dff7b5980d452 (<class 'rdflib.graph.Graph'>)>"
      ]
     },
     "execution_count": 26,
     "metadata": {},
     "output_type": "execute_result"
    }
   ],
   "source": [
    "shape_graph = rdflib.Graph()\n",
    "shape_graph.parse(data=simple_skos_ttl_graph, format=\"turtle\")\n",
    "\n"
   ]
  },
  {
   "cell_type": "code",
   "execution_count": 27,
   "metadata": {},
   "outputs": [],
   "source": [
    "# create a Dataset that fullfills the SHACL constraints\n",
    "\n",
    "valid_dataset = \"\"\"\n",
    "@prefix rdf: <http://www.w3.org/1999/02/22-rdf-syntax-ns#> .\n",
    "@prefix rdfs: <http://www.w3.org/2000/01/rdf-schema#> .\n",
    "@prefix xsd: <http://www.w3.org/2001/XMLSchema#> .\n",
    "@prefix owl: <http://www.w3.org/2002/07/owl#> .\n",
    "@prefix sh: <http://www.w3.org/ns/shacl#> .\n",
    "@prefix skos: <http://www.w3.org/2004/02/skos/core#> .\n",
    "\n",
    "@prefix ex: <http://example.org/> .\n",
    "@prefix shdemo: <http://w3id.org/oso/shacl-skos-demo-ontology/> .\n",
    "\n",
    "ex:Germany a shdemo:Country ;\n",
    "    shdemo:isoCode \"DE\" ;\n",
    "    shdemo:capital \"Berlin\" ;\n",
    "    shdemo:population 3769495 ;\n",
    "    .\n",
    "\n",
    "ex:Berlin a shdemo:City ;\n",
    "    shdemo:population 3769495 ;\n",
    "    .\n",
    "\n",
    "ex:France a shdemo:Country ;\n",
    "    shdemo:isoCode \"FR\" ;\n",
    "    shdemo:capital \"Paris\" ;\n",
    "    shdemo:population 2140526 ;\n",
    "    .\n",
    "\n",
    "ex:Paris a shdemo:City ;\n",
    "    shdemo:population 2140526 ;\n",
    "    .\n",
    "\n",
    "\"\"\""
   ]
  },
  {
   "cell_type": "code",
   "execution_count": 45,
   "metadata": {},
   "outputs": [],
   "source": [
    "# create a Dataset that violates the SHACL constraints\n",
    "\n",
    "invalid_dataset = \"\"\"\n",
    "@prefix rdf: <http://www.w3.org/1999/02/22-rdf-syntax-ns#> .\n",
    "@prefix rdfs: <http://www.w3.org/2000/01/rdf-schema#> .\n",
    "@prefix xsd: <http://www.w3.org/2001/XMLSchema#> .\n",
    "@prefix owl: <http://www.w3.org/2002/07/owl#> .\n",
    "@prefix sh: <http://www.w3.org/ns/shacl#> .\n",
    "\n",
    "@prefix skos: <http://www.w3.org/2004/02/skos/core#> .\n",
    "@prefix ex: <http://example.org/> .\n",
    "@prefix shdemo: <http://w3id.org/oso/shacl-skos-demo-ontology/> .\n",
    "\n",
    "ex:Germany a shdemo:Country ;\n",
    "    shdemo:isoCode \"DE3\" ;\n",
    "    shdemo:capital \"Berlin\" ;\n",
    "    shdemo:population 0 ;\n",
    "    .\n",
    "\n",
    "ex:Berlin a shdemo:City ;\n",
    "    shdemo:population 3769495 ;\n",
    "    .\n",
    "\n",
    "ex:France a shdemo:Country ;\n",
    "    shdemo:isoCode \"fr\" ;\n",
    "    shdemo:capital \"Paris\" ;\n",
    "    shdemo:population 2140526 ;\n",
    "    .\n",
    "\n",
    "ex:Paris a shdemo:City ;\n",
    "    shdemo:population 2140526 ;\n",
    "    .\n",
    "\n",
    "ex:Italy a shdemo:Country ;\n",
    "    shdemo:isoCode \"ITA\" ;\n",
    "    shdemo:capital \"Rome\" ;\n",
    "    shdemo:capital \"Paris\" ;\n",
    "    shdemo:population 2872800 ;\n",
    "    .\n",
    "\n",
    "ex:Rome a shdemo:City ;\n",
    "    shdemo:population 0 ;\n",
    "    .\n",
    "\n",
    "\"\"\"\n"
   ]
  },
  {
   "cell_type": "code",
   "execution_count": 46,
   "metadata": {},
   "outputs": [
    {
     "data": {
      "text/plain": [
       "<Graph identifier=N694fecb3ac46486d951bfc923e5cbdff (<class 'rdflib.graph.Graph'>)>"
      ]
     },
     "execution_count": 46,
     "metadata": {},
     "output_type": "execute_result"
    }
   ],
   "source": [
    "valid_graph = rdflib.Graph()\n",
    "valid_graph.parse(data=valid_dataset, format=\"turtle\")\n"
   ]
  },
  {
   "cell_type": "code",
   "execution_count": 47,
   "metadata": {},
   "outputs": [
    {
     "data": {
      "text/plain": [
       "(True,\n",
       " <Graph identifier=N9768a59ab1a14f519743138396e41329 (<class 'rdflib.graph.Graph'>)>,\n",
       " 'Validation Report\\nConforms: True\\n')"
      ]
     },
     "execution_count": 47,
     "metadata": {},
     "output_type": "execute_result"
    }
   ],
   "source": [
    "# validate the valid dataset with pyshacl\n",
    "\n",
    "v = Validator(valid_graph, shacl_graph=shape_graph,  allow_warnings=True ) # inference='rdfs', abort_on_error=False,\n",
    "\n",
    "conforms, results_graph, results_text = v.run()\n",
    "conforms, results_graph, results_text"
   ]
  },
  {
   "cell_type": "code",
   "execution_count": 48,
   "metadata": {},
   "outputs": [
    {
     "data": {
      "text/plain": [
       "<Graph identifier=Nfdd88a9db5794c3e87d96ad8e2f9bbc5 (<class 'rdflib.graph.Graph'>)>"
      ]
     },
     "execution_count": 48,
     "metadata": {},
     "output_type": "execute_result"
    }
   ],
   "source": [
    "invalid_graph = rdflib.Graph()\n",
    "invalid_graph.parse(data=invalid_dataset, format=\"turtle\")"
   ]
  },
  {
   "cell_type": "code",
   "execution_count": 50,
   "metadata": {},
   "outputs": [
    {
     "name": "stdout",
     "output_type": "stream",
     "text": [
      "Validation Report\n",
      "Conforms: False\n",
      "Results (6):\n",
      "Constraint Violation in MaxLengthConstraintComponent (http://www.w3.org/ns/shacl#MaxLengthConstraintComponent):\n",
      "\tSeverity: sh:Violation\n",
      "\tSource Shape: shdemo:Country-isoCode\n",
      "\tFocus Node: ex:Italy\n",
      "\tValue Node: Literal(\"ITA\")\n",
      "\tResult Path: shdemo:isoCode\n",
      "\tMessage: String length not <= Literal(\"2\", datatype=xsd:integer)\n",
      "Constraint Violation in ClassConstraintComponent (http://www.w3.org/ns/shacl#ClassConstraintComponent):\n",
      "\tSeverity: sh:Violation\n",
      "\tSource Shape: shdemo:Country-capital\n",
      "\tFocus Node: ex:Italy\n",
      "\tValue Node: Literal(\"Paris\")\n",
      "\tResult Path: shdemo:capital\n",
      "\tMessage: Value does not have class shdemo:City\n",
      "Constraint Violation in ClassConstraintComponent (http://www.w3.org/ns/shacl#ClassConstraintComponent):\n",
      "\tSeverity: sh:Violation\n",
      "\tSource Shape: shdemo:Country-capital\n",
      "\tFocus Node: ex:Italy\n",
      "\tValue Node: Literal(\"Rome\")\n",
      "\tResult Path: shdemo:capital\n",
      "\tMessage: Value does not have class shdemo:City\n",
      "Constraint Violation in MaxCountConstraintComponent (http://www.w3.org/ns/shacl#MaxCountConstraintComponent):\n",
      "\tSeverity: sh:Violation\n",
      "\tSource Shape: shdemo:Country-capital\n",
      "\tFocus Node: ex:Italy\n",
      "\tResult Path: shdemo:capital\n",
      "\tMessage: More than 1 values on ex:Italy->shdemo:capital\n",
      "Constraint Violation in ClassConstraintComponent (http://www.w3.org/ns/shacl#ClassConstraintComponent):\n",
      "\tSeverity: sh:Violation\n",
      "\tSource Shape: shdemo:Country-capital\n",
      "\tFocus Node: ex:France\n",
      "\tValue Node: Literal(\"Paris\")\n",
      "\tResult Path: shdemo:capital\n",
      "\tMessage: Value does not have class shdemo:City\n",
      "Constraint Violation in ClassConstraintComponent (http://www.w3.org/ns/shacl#ClassConstraintComponent):\n",
      "\tSeverity: sh:Violation\n",
      "\tSource Shape: shdemo:Country-capital\n",
      "\tFocus Node: ex:Germany\n",
      "\tValue Node: Literal(\"Berlin\")\n",
      "\tResult Path: shdemo:capital\n",
      "\tMessage: Value does not have class shdemo:City\n",
      "\n"
     ]
    },
    {
     "data": {
      "text/plain": [
       "(False,\n",
       " <Graph identifier=N39447f63fbe94015b5750453a8fbab3a (<class 'rdflib.graph.Graph'>)>,\n",
       " None)"
      ]
     },
     "execution_count": 50,
     "metadata": {},
     "output_type": "execute_result"
    }
   ],
   "source": [
    "# validate the invalid dataset with pyshacl\n",
    "\n",
    "v = Validator(invalid_graph, shacl_graph=shape_graph, inference='rdfs', abort_on_error=False  )\n",
    "\n",
    "conforms, results_graph, results_text = v.run()\n",
    "\n",
    "conforms, results_graph, print(results_text)"
   ]
  },
  {
   "cell_type": "code",
   "execution_count": null,
   "metadata": {},
   "outputs": [],
   "source": []
  },
  {
   "cell_type": "code",
   "execution_count": null,
   "metadata": {},
   "outputs": [],
   "source": []
  }
 ],
 "metadata": {
  "kernelspec": {
   "display_name": "linkml",
   "language": "python",
   "name": "python3"
  },
  "language_info": {
   "codemirror_mode": {
    "name": "ipython",
    "version": 3
   },
   "file_extension": ".py",
   "mimetype": "text/x-python",
   "name": "python",
   "nbconvert_exporter": "python",
   "pygments_lexer": "ipython3",
   "version": "3.10.12"
  }
 },
 "nbformat": 4,
 "nbformat_minor": 2
}
