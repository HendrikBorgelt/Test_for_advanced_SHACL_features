{
 "cells": [
  {
   "cell_type": "markdown",
   "metadata": {},
   "source": [
    "# SHACL tutorial\n",
    "\n",
    "This tutorial is based on the youtube webinar of Holger Knublauch  [SHACL Tutorial](https://www.youtube.com/watch?v=ccs-KhnWR1U)\n",
    "    \n",
    "For SKOS, see also\n",
    " [SKOS Tutorial](https://www.youtube.com/watch?v=3Q4v6vzj3Qk) by [DataFlair](https://www.youtube.com/channel/UCs6nmQZQ6pO1qG0e2fV6G7g).\n",
    "\n",
    "and\n",
    " [SKOS Primer](https://www.w3.org/TR/skos-primer/) and the [SKOS Reference](https://www.w3.org/TR/skos-reference/)."
   ]
  },
  {
   "cell_type": "code",
   "execution_count": null,
   "metadata": {},
   "outputs": [],
   "source": [
    "! pip install pydotplus\n",
    "! pip install graphviz"
   ]
  },
  {
   "cell_type": "code",
   "execution_count": 5,
   "metadata": {},
   "outputs": [],
   "source": [
    "import rdflib\n",
    "\n",
    "import matplotlib\n",
    "import matplotlib.pyplot as plt\n",
    "\n",
    "from pyshacl import Validator\n",
    "from rdflib import Graph\n",
    "# inline matplotlib plotting in jupyter notebook\n",
    "\n",
    "import io\n",
    "import pydotplus\n",
    "from IPython.display import display, Image\n",
    "\n",
    "\n",
    "# dot graph visualization\n",
    "\n",
    "from rdflib.tools.rdf2dot import rdf2dot\n",
    "\n",
    "# register rdf2dot plugin with rdflib\n",
    "\n",
    "rdflib.plugin.register('dot', rdflib.tools.rdf2dot, 'RDF2DOT', 'RDF2DOT')\n",
    "\n",
    "%matplotlib inline"
   ]
  },
  {
   "cell_type": "code",
   "execution_count": 2,
   "metadata": {},
   "outputs": [],
   "source": [
    "# create a simple SKOS RDF graph (turtle format)\n",
    "\n",
    "simple_skos_ttl_graph = \"\"\"\n",
    "@prefix rdf: <http://www.w3.org/1999/02/22-rdf-syntax-ns#> .\n",
    "@prefix rdfs: <http://www.w3.org/2000/01/rdf-schema#> .\n",
    "@prefix xsd: <http://www.w3.org/2001/XMLSchema#> .\n",
    "@prefix owl: <http://www.w3.org/2002/07/owl#> .\n",
    "@prefix sh: <http://www.w3.org/ns/shacl#> .\n",
    "@prefix skos: <http://www.w3.org/2004/02/skos/core#> .\n",
    "@prefix ex: <http://example.org/> .\n",
    "@prefix shdemo: <http://w3id.org/oso/shacl-skos-demo-ontology/> .\n",
    "\n",
    "<http://w3id.org/oso/shacl-skos-demo-ontology> rdf:type owl:Ontology .\n",
    "\n",
    "\n",
    "# City --------------------------------------------------------------\n",
    "\n",
    "shdemo:City\n",
    "    a owl:Class ;\n",
    "    a sh:NodeShape ;\n",
    "    rdfs:label \"City\"@en ;\n",
    "    rdfs:subClassOf skos:Concept;\n",
    "    sh:property shdemo:City-Population;\n",
    "    .\n",
    "# property shapes for City\n",
    "shdemo:City-Population\n",
    "    a sh:PropertyShape ;\n",
    "    sh:path shdemo:population ;\n",
    "    sh:datatype xsd:integer ;\n",
    "    sh:minCount 1 ;\n",
    "    sh:name \"population\"@en ;\n",
    "    .\n",
    "\n",
    "    \n",
    "## Country --------------------------------------------------------------\n",
    "shdemo:Country\n",
    "    a owl:Class ;\n",
    "    a sh:NodeShape ;\n",
    "    rdfs:label \"Country\"@en ;\n",
    "    rdfs:subClassOf skos:Concept;\n",
    "    sh:property shdemo:Country-isoCode;\n",
    "    sh:property shdemo:Country-capital;\n",
    "    .\n",
    "\n",
    "# property shapes for Country\n",
    "# ISO Code\n",
    "shdemo:Country-isoCode\n",
    "    a sh:PropertyShape ;\n",
    "    sh:path shdemo:isoCode ;\n",
    "    sh:datatype xsd:string ;\n",
    "    sh:minLength 2 ;\n",
    "    sh:maxLength 2 ;\n",
    "    sh:regex \"[A-Z]{2}\" ;\n",
    "    sh:name \"ISO Code\"@en ;\n",
    "    .    \n",
    "\n",
    " # Capital\n",
    "shdemo:Country-capital\n",
    "    a sh:PropertyShape ;\n",
    "    sh:path shdemo:capital ;\n",
    "    sh:class shdemo:City ;\n",
    "    sh:datatype xsd:string ;\n",
    "    sh:maxCount 1 ;\n",
    "    sh:name \"Capital\"@en ;\n",
    "    .   \n",
    "# Capital of Country (inverse)\n",
    "\n",
    "shdemo:City-capitalOf\n",
    "    a sh:PropertyShape ;\n",
    "    sh:path [ \n",
    "        sh:inversePath shdemo:Country-capital ;\n",
    "        ] ;\n",
    "    sh:class shdemo:Country ;\n",
    "    sh:name \"capital of\"@en ;\n",
    "    .\n",
    "\n",
    "\"\"\"\n"
   ]
  },
  {
   "cell_type": "code",
   "execution_count": 6,
   "metadata": {},
   "outputs": [],
   "source": [
    "# s. for more info:  https://stackoverflow.com/questions/39274216/visualize-an-rdflib-graph-in-python\n",
    "\n",
    "def visualize(g):\n",
    "    stream = io.StringIO()\n",
    "    rdf2dot(g, stream, opts = {display})\n",
    "    dg = pydotplus.graph_from_dot_data(stream.getvalue())\n",
    "    png = dg.create_png()\n",
    "    display(Image(png))"
   ]
  },
  {
   "cell_type": "code",
   "execution_count": null,
   "metadata": {},
   "outputs": [],
   "source": [
    "g = Graph()\n",
    "g.parse(data=simple_skos_ttl_graph, format=\"turtle\")\n",
    "g.serialize(format=\"turtle\")\n",
    "\n",
    "visualize(g)"
   ]
  },
  {
   "cell_type": "code",
   "execution_count": null,
   "metadata": {},
   "outputs": [],
   "source": [
    "## visualize the graph\n",
    "\n",
    "g = Graph()\n",
    "g.parse(data=simple_skos_ttl_graph, format=\"turtle\")\n",
    "g.serialize(format=\"turtle\")\n",
    "\n",
    "# visualize the graph\n",
    "\n",
    "# dot = g.serialize(format='dot')\n",
    "# with open(\"simple_skos_graph.dot\", \"wb\") as f:\n",
    "#     f.write(dot)\n"
   ]
  },
  {
   "cell_type": "code",
   "execution_count": null,
   "metadata": {},
   "outputs": [],
   "source": [
    "shape_graph = rdflib.Graph()\n",
    "shape_graph.parse(data=simple_skos_ttl_graph, format=\"turtle\")"
   ]
  },
  {
   "cell_type": "code",
   "execution_count": 10,
   "metadata": {},
   "outputs": [],
   "source": [
    "# create a Dataset that fullfills the SHACL constraints by instantiating the classes and properties defined in the ontology\n",
    "\n",
    "valid_dataset = \"\"\"\n",
    "@prefix rdf: <http://www.w3.org/1999/02/22-rdf-syntax-ns#> .\n",
    "@prefix rdfs: <http://www.w3.org/2000/01/rdf-schema#> .\n",
    "@prefix xsd: <http://www.w3.org/2001/XMLSchema#> .\n",
    "@prefix owl: <http://www.w3.org/2002/07/owl#> .\n",
    "@prefix sh: <http://www.w3.org/ns/shacl#> .\n",
    "@prefix skos: <http://www.w3.org/2004/02/skos/core#> .\n",
    "@prefix shdemo: <http://w3id.org/oso/shacl-skos-demo-ontology/> .\n",
    "\n",
    "@prefix extax: <http://example.org/example-taxonomy> .\n",
    "\n",
    "\n",
    "extax:Germany a shdemo:Country ;\n",
    "    shdemo:isoCode \"DE\" ;\n",
    "    shdemo:capital \"Berlin\" ;\n",
    "    shdemo:population 3769495 ;\n",
    "    .\n",
    "\n",
    "extax:Berlin a shdemo:City ;\n",
    "    shdemo:population 3769495 ;\n",
    "    .\n",
    "\n",
    "extax:France a shdemo:Country ;\n",
    "    shdemo:isoCode \"FR\" ;\n",
    "    shdemo:capital \"Paris\" ;\n",
    "    shdemo:population 2140526 ;\n",
    "    .\n",
    "\n",
    "extax:Paris a shdemo:City ;\n",
    "    shdemo:population 2140526 ;\n",
    "    .\n",
    "\n",
    "\"\"\""
   ]
  },
  {
   "cell_type": "code",
   "execution_count": 11,
   "metadata": {},
   "outputs": [],
   "source": [
    "# create a Dataset that violates the SHACL constraints\n",
    "\n",
    "invalid_dataset = \"\"\"\n",
    "@prefix rdf: <http://www.w3.org/1999/02/22-rdf-syntax-ns#> .\n",
    "@prefix rdfs: <http://www.w3.org/2000/01/rdf-schema#> .\n",
    "@prefix xsd: <http://www.w3.org/2001/XMLSchema#> .\n",
    "@prefix owl: <http://www.w3.org/2002/07/owl#> .\n",
    "@prefix sh: <http://www.w3.org/ns/shacl#> .\n",
    "@prefix skos: <http://www.w3.org/2004/02/skos/core#> .\n",
    "@prefix shdemo: <http://w3id.org/oso/shacl-skos-demo-ontology/> .\n",
    "\n",
    "@prefix extax: <http://example.org/example-taxonomy> .\n",
    "\n",
    "extax:Germany a shdemo:Country ;\n",
    "    shdemo:isoCode \"DE3\" ;\n",
    "    shdemo:capital \"Berlin\" ;\n",
    "    shdemo:population 0 ;\n",
    "    .\n",
    "\n",
    "extax:Berlin a shdemo:City ;\n",
    "    shdemo:population 3769495 ;\n",
    "    .\n",
    "\n",
    "extax:France a shdemo:Country ;\n",
    "    shdemo:isoCode \"fr\" ;\n",
    "    shdemo:capital \"Paris\" ;\n",
    "    shdemo:population 2140526 ;\n",
    "    .\n",
    "\n",
    "extax:Paris a shdemo:City ;\n",
    "    shdemo:population 2140526 ;\n",
    "    .\n",
    "\n",
    "extax:Italy a shdemo:Country ;\n",
    "    shdemo:isoCode \"ITA\" ;\n",
    "    shdemo:capital \"Rome\" ;\n",
    "    shdemo:capital \"Paris\" ;\n",
    "    shdemo:population 2872800 ;\n",
    "    .\n",
    "\n",
    "extax:Rome a shdemo:City ;\n",
    "    shdemo:population 0 ;\n",
    "    .\n",
    "\n",
    "\"\"\"\n"
   ]
  },
  {
   "cell_type": "code",
   "execution_count": null,
   "metadata": {},
   "outputs": [],
   "source": [
    "valid_graph = rdflib.Graph()\n",
    "valid_graph.parse(data=valid_dataset, format=\"turtle\")\n"
   ]
  },
  {
   "cell_type": "code",
   "execution_count": null,
   "metadata": {},
   "outputs": [],
   "source": [
    "# validate the valid dataset with pyshacl\n",
    "\n",
    "v = Validator(valid_graph, shacl_graph=shape_graph,  allow_warnings=True ) # inference='rdfs', abort_on_error=False,\n",
    "\n",
    "conforms, results_graph, results_text = v.run()\n",
    "conforms, results_graph, results_text"
   ]
  },
  {
   "cell_type": "code",
   "execution_count": null,
   "metadata": {},
   "outputs": [],
   "source": [
    "invalid_graph = rdflib.Graph()\n",
    "invalid_graph.parse(data=invalid_dataset, format=\"turtle\")"
   ]
  },
  {
   "cell_type": "code",
   "execution_count": null,
   "metadata": {},
   "outputs": [],
   "source": [
    "# validate the invalid dataset with pyshacl\n",
    "\n",
    "v = Validator(invalid_graph, shacl_graph=shape_graph, inference='rdfs', abort_on_error=False  )\n",
    "\n",
    "conforms, results_graph, results_text = v.run()\n",
    "\n",
    "conforms, results_graph, print(results_text)"
   ]
  },
  {
   "cell_type": "markdown",
   "metadata": {},
   "source": [
    "## Further applications of the SHACL ontology\n",
    "\n",
    "next to validation of RDF data, which was demonstrated above, SHACL can also be used for:\n",
    "\n",
    "- automatic data generation\n",
    "- data curation (suggestion of missing data or corrections)\n",
    "- data transformation\n"
   ]
  },
  {
   "cell_type": "code",
   "execution_count": null,
   "metadata": {},
   "outputs": [],
   "source": []
  },
  {
   "cell_type": "markdown",
   "metadata": {},
   "source": [
    "## Property Groups"
   ]
  },
  {
   "cell_type": "markdown",
   "metadata": {},
   "source": []
  },
  {
   "cell_type": "markdown",
   "metadata": {},
   "source": [
    "## Orders"
   ]
  },
  {
   "cell_type": "markdown",
   "metadata": {},
   "source": []
  }
 ],
 "metadata": {
  "kernelspec": {
   "display_name": "linkml",
   "language": "python",
   "name": "python3"
  },
  "language_info": {
   "codemirror_mode": {
    "name": "ipython",
    "version": 3
   },
   "file_extension": ".py",
   "mimetype": "text/x-python",
   "name": "python",
   "nbconvert_exporter": "python",
   "pygments_lexer": "ipython3",
   "version": "3.10.12"
  }
 },
 "nbformat": 4,
 "nbformat_minor": 2
}
